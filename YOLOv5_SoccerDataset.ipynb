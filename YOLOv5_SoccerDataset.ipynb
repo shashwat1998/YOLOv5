{
  "nbformat": 4,
  "nbformat_minor": 0,
  "metadata": {
    "colab": {
      "name": "Untitled4.ipynb",
      "provenance": [],
      "authorship_tag": "ABX9TyP6BLlVilLPeSvs7qSwIyzE",
      "include_colab_link": true
    },
    "kernelspec": {
      "name": "python3",
      "display_name": "Python 3"
    }
  },
  "cells": [
    {
      "cell_type": "markdown",
      "metadata": {
        "id": "view-in-github",
        "colab_type": "text"
      },
      "source": [
        "<a href=\"https://colab.research.google.com/github/shashwat1998/YOLOv5/blob/master/YOLOv5_SoccerDataset.ipynb\" target=\"_parent\"><img src=\"https://colab.research.google.com/assets/colab-badge.svg\" alt=\"Open In Colab\"/></a>"
      ]
    },
    {
      "cell_type": "code",
      "metadata": {
        "id": "rMTTFHc8tKcy",
        "colab_type": "code",
        "colab": {
          "base_uri": "https://localhost:8080/",
          "height": 121
        },
        "outputId": "fa577b4e-a6d7-4827-a3e8-916b7835b44a"
      },
      "source": [
        "!git clone https://github.com/Isabek/XmlToTxt"
      ],
      "execution_count": 1,
      "outputs": [
        {
          "output_type": "stream",
          "text": [
            "Cloning into 'XmlToTxt'...\n",
            "remote: Enumerating objects: 8, done.\u001b[K\n",
            "remote: Counting objects:  12% (1/8)\u001b[K\rremote: Counting objects:  25% (2/8)\u001b[K\rremote: Counting objects:  37% (3/8)\u001b[K\rremote: Counting objects:  50% (4/8)\u001b[K\rremote: Counting objects:  62% (5/8)\u001b[K\rremote: Counting objects:  75% (6/8)\u001b[K\rremote: Counting objects:  87% (7/8)\u001b[K\rremote: Counting objects: 100% (8/8)\u001b[K\rremote: Counting objects: 100% (8/8), done.\u001b[K\n",
            "remote: Compressing objects:  14% (1/7)\u001b[K\rremote: Compressing objects:  28% (2/7)\u001b[K\rremote: Compressing objects:  42% (3/7)\u001b[K\rremote: Compressing objects:  57% (4/7)\u001b[K\rremote: Compressing objects:  71% (5/7)\u001b[K\rremote: Compressing objects:  85% (6/7)\u001b[K\rremote: Compressing objects: 100% (7/7)\u001b[K\rremote: Compressing objects: 100% (7/7), done.\u001b[K\n",
            "remote: Total 50 (delta 1), reused 0 (delta 0), pack-reused 42\u001b[K\n",
            "Unpacking objects:   2% (1/50)   \rUnpacking objects:   4% (2/50)   \rUnpacking objects:   6% (3/50)   \rUnpacking objects:   8% (4/50)   \rUnpacking objects:  10% (5/50)   \rUnpacking objects:  12% (6/50)   \rUnpacking objects:  14% (7/50)   \rUnpacking objects:  16% (8/50)   \rUnpacking objects:  18% (9/50)   \rUnpacking objects:  20% (10/50)   \rUnpacking objects:  22% (11/50)   \rUnpacking objects:  24% (12/50)   \rUnpacking objects:  26% (13/50)   \rUnpacking objects:  28% (14/50)   \rUnpacking objects:  30% (15/50)   \rUnpacking objects:  32% (16/50)   \rUnpacking objects:  34% (17/50)   \rUnpacking objects:  36% (18/50)   \rUnpacking objects:  38% (19/50)   \rUnpacking objects:  40% (20/50)   \rUnpacking objects:  42% (21/50)   \rUnpacking objects:  44% (22/50)   \rUnpacking objects:  46% (23/50)   \rUnpacking objects:  48% (24/50)   \rUnpacking objects:  50% (25/50)   \rUnpacking objects:  52% (26/50)   \rUnpacking objects:  54% (27/50)   \rUnpacking objects:  56% (28/50)   \rUnpacking objects:  58% (29/50)   \rUnpacking objects:  60% (30/50)   \rUnpacking objects:  62% (31/50)   \rUnpacking objects:  64% (32/50)   \rUnpacking objects:  66% (33/50)   \rUnpacking objects:  68% (34/50)   \rUnpacking objects:  70% (35/50)   \rUnpacking objects:  72% (36/50)   \rUnpacking objects:  74% (37/50)   \rUnpacking objects:  76% (38/50)   \rUnpacking objects:  78% (39/50)   \rUnpacking objects:  80% (40/50)   \rUnpacking objects:  82% (41/50)   \rUnpacking objects:  84% (42/50)   \rUnpacking objects:  86% (43/50)   \rUnpacking objects:  88% (44/50)   \rUnpacking objects:  90% (45/50)   \rUnpacking objects:  92% (46/50)   \rUnpacking objects:  94% (47/50)   \rUnpacking objects:  96% (48/50)   \rUnpacking objects:  98% (49/50)   \rUnpacking objects: 100% (50/50)   \rUnpacking objects: 100% (50/50), done.\n"
          ],
          "name": "stdout"
        }
      ]
    },
    {
      "cell_type": "code",
      "metadata": {
        "id": "78X6xYywtluM",
        "colab_type": "code",
        "colab": {}
      },
      "source": [
        "!rm -rf /content/XmlToTxt/out/"
      ],
      "execution_count": 5,
      "outputs": []
    },
    {
      "cell_type": "code",
      "metadata": {
        "id": "Sdf9zosjt_5P",
        "colab_type": "code",
        "colab": {
          "base_uri": "https://localhost:8080/",
          "height": 86
        },
        "outputId": "8cbc06c8-cd23-41dd-9d09-85ba9dc647a0"
      },
      "source": [
        "!pip install -r /content/XmlToTxt/requirements.txt"
      ],
      "execution_count": 7,
      "outputs": [
        {
          "output_type": "stream",
          "text": [
            "Collecting declxml==0.9.1\n",
            "  Downloading https://files.pythonhosted.org/packages/c9/e2/f399c6024bc1e87f767ff8e5b5715690b4c63a48b7a83bb4d75bd4170768/declxml-0.9.1-py3-none-any.whl\n",
            "Installing collected packages: declxml\n",
            "Successfully installed declxml-0.9.1\n"
          ],
          "name": "stdout"
        }
      ]
    },
    {
      "cell_type": "code",
      "metadata": {
        "id": "TVm9md8Ouw7R",
        "colab_type": "code",
        "colab": {
          "base_uri": "https://localhost:8080/",
          "height": 34
        },
        "outputId": "f2770212-3935-4c9d-a412-aee0e00e910c"
      },
      "source": [
        "%cd ./XmlToTxt/"
      ],
      "execution_count": 9,
      "outputs": [
        {
          "output_type": "stream",
          "text": [
            "/content/XmlToTxt\n"
          ],
          "name": "stdout"
        }
      ]
    },
    {
      "cell_type": "code",
      "metadata": {
        "id": "Hd9PVwDUuflL",
        "colab_type": "code",
        "colab": {}
      },
      "source": [
        "!python xmltotxt.py -xml xml -out out"
      ],
      "execution_count": 10,
      "outputs": []
    }
  ]
}