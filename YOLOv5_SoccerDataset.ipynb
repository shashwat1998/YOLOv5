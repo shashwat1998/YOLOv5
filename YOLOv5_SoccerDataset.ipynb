{
  "nbformat": 4,
  "nbformat_minor": 0,
  "metadata": {
    "colab": {
      "name": "Untitled4.ipynb",
      "provenance": [],
      "authorship_tag": "ABX9TyMTwDGbBI4bM8N8uVkU1Usc",
      "include_colab_link": true
    },
    "kernelspec": {
      "name": "python3",
      "display_name": "Python 3"
    }
  },
  "cells": [
    {
      "cell_type": "markdown",
      "metadata": {
        "id": "view-in-github",
        "colab_type": "text"
      },
      "source": [
        "<a href=\"https://colab.research.google.com/github/shashwat1998/YOLOv5/blob/master/YOLOv5_SoccerDataset.ipynb\" target=\"_parent\"><img src=\"https://colab.research.google.com/assets/colab-badge.svg\" alt=\"Open In Colab\"/></a>"
      ]
    },
    {
      "cell_type": "code",
      "metadata": {
        "id": "rMTTFHc8tKcy",
        "colab_type": "code",
        "colab": {
          "base_uri": "https://localhost:8080/",
          "height": 347
        },
        "outputId": "d97f8050-8a1e-4ec8-b35f-71a5aa83c58a"
      },
      "source": [
        "!git clone https://github.com/Isabek/XmlToTxt\n",
        "!git clone https://github.com/ultralytics/yolov5\n",
        "!git clone https://github.com/shashwat1998/YOLOv5"
      ],
      "execution_count": 1,
      "outputs": [
        {
          "output_type": "stream",
          "text": [
            "Cloning into 'XmlToTxt'...\n",
            "remote: Enumerating objects: 8, done.\u001b[K\n",
            "remote: Counting objects:  12% (1/8)\u001b[K\rremote: Counting objects:  25% (2/8)\u001b[K\rremote: Counting objects:  37% (3/8)\u001b[K\rremote: Counting objects:  50% (4/8)\u001b[K\rremote: Counting objects:  62% (5/8)\u001b[K\rremote: Counting objects:  75% (6/8)\u001b[K\rremote: Counting objects:  87% (7/8)\u001b[K\rremote: Counting objects: 100% (8/8)\u001b[K\rremote: Counting objects: 100% (8/8), done.\u001b[K\n",
            "remote: Compressing objects:  14% (1/7)\u001b[K\rremote: Compressing objects:  28% (2/7)\u001b[K\rremote: Compressing objects:  42% (3/7)\u001b[K\rremote: Compressing objects:  57% (4/7)\u001b[K\rremote: Compressing objects:  71% (5/7)\u001b[K\rremote: Compressing objects:  85% (6/7)\u001b[K\rremote: Compressing objects: 100% (7/7)\u001b[K\rremote: Compressing objects: 100% (7/7), done.\u001b[K\n",
            "remote: Total 50 (delta 1), reused 0 (delta 0), pack-reused 42\u001b[K\n",
            "Unpacking objects: 100% (50/50), done.\n",
            "Cloning into 'yolov5'...\n",
            "remote: Enumerating objects: 909, done.\u001b[K\n",
            "remote: Total 909 (delta 0), reused 0 (delta 0), pack-reused 909\u001b[K\n",
            "Receiving objects: 100% (909/909), 3.39 MiB | 22.51 MiB/s, done.\n",
            "Resolving deltas: 100% (602/602), done.\n",
            "Cloning into 'YOLOv5'...\n",
            "remote: Enumerating objects: 397, done.\u001b[K\n",
            "remote: Counting objects: 100% (397/397), done.\u001b[K\n",
            "remote: Compressing objects: 100% (206/206), done.\u001b[K\n",
            "remote: Total 397 (delta 190), reused 391 (delta 189), pack-reused 0\u001b[K\n",
            "Receiving objects: 100% (397/397), 418.00 MiB | 45.04 MiB/s, done.\n",
            "Resolving deltas: 100% (190/190), done.\n",
            "Checking out files: 100% (469/469), done.\n"
          ],
          "name": "stdout"
        }
      ]
    },
    {
      "cell_type": "code",
      "metadata": {
        "id": "meg90pjEBrnw",
        "colab_type": "code",
        "colab": {
          "base_uri": "https://localhost:8080/",
          "height": 992
        },
        "outputId": "d4c6d12d-c217-414a-d4b3-933311daeef1"
      },
      "source": [
        "%cd yolov5\n",
        "!pip install -U -r requirements.txt\n",
        "%cd .."
      ],
      "execution_count": 1,
      "outputs": [
        {
          "output_type": "stream",
          "text": [
            "/content/yolov5\n",
            "Collecting git+https://github.com/cocodataset/cocoapi.git#subdirectory=PythonAPI (from -r requirements.txt (line 13))\n",
            "  Cloning https://github.com/cocodataset/cocoapi.git to /tmp/pip-req-build-96l55kk3\n",
            "  Running command git clone -q https://github.com/cocodataset/cocoapi.git /tmp/pip-req-build-96l55kk3\n",
            "Requirement already up-to-date: Cython in /usr/local/lib/python3.6/dist-packages (from -r requirements.txt (line 2)) (0.29.20)\n",
            "Requirement already up-to-date: numpy==1.17 in /usr/local/lib/python3.6/dist-packages (from -r requirements.txt (line 3)) (1.17.0)\n",
            "Requirement already up-to-date: opencv-python in /usr/local/lib/python3.6/dist-packages (from -r requirements.txt (line 4)) (4.2.0.34)\n",
            "Requirement already up-to-date: torch>=1.4 in /usr/local/lib/python3.6/dist-packages (from -r requirements.txt (line 5)) (1.5.1+cu101)\n",
            "Requirement already up-to-date: matplotlib in /usr/local/lib/python3.6/dist-packages (from -r requirements.txt (line 6)) (3.2.2)\n",
            "Requirement already up-to-date: pillow in /usr/local/lib/python3.6/dist-packages (from -r requirements.txt (line 7)) (7.2.0)\n",
            "Requirement already up-to-date: tensorboard in /usr/local/lib/python3.6/dist-packages (from -r requirements.txt (line 8)) (2.2.2)\n",
            "Requirement already up-to-date: PyYAML>=5.3 in /usr/local/lib/python3.6/dist-packages (from -r requirements.txt (line 9)) (5.3.1)\n",
            "Requirement already up-to-date: torchvision in /usr/local/lib/python3.6/dist-packages (from -r requirements.txt (line 10)) (0.6.1+cu101)\n",
            "Requirement already up-to-date: scipy in /usr/local/lib/python3.6/dist-packages (from -r requirements.txt (line 11)) (1.5.0)\n",
            "Requirement already up-to-date: tqdm in /usr/local/lib/python3.6/dist-packages (from -r requirements.txt (line 12)) (4.47.0)\n",
            "Requirement already satisfied, skipping upgrade: setuptools>=18.0 in /usr/local/lib/python3.6/dist-packages (from pycocotools==2.0->-r requirements.txt (line 13)) (47.3.1)\n",
            "Requirement already satisfied, skipping upgrade: future in /usr/local/lib/python3.6/dist-packages (from torch>=1.4->-r requirements.txt (line 5)) (0.16.0)\n",
            "Requirement already satisfied, skipping upgrade: cycler>=0.10 in /usr/local/lib/python3.6/dist-packages (from matplotlib->-r requirements.txt (line 6)) (0.10.0)\n",
            "Requirement already satisfied, skipping upgrade: kiwisolver>=1.0.1 in /usr/local/lib/python3.6/dist-packages (from matplotlib->-r requirements.txt (line 6)) (1.2.0)\n",
            "Requirement already satisfied, skipping upgrade: python-dateutil>=2.1 in /usr/local/lib/python3.6/dist-packages (from matplotlib->-r requirements.txt (line 6)) (2.8.1)\n",
            "Requirement already satisfied, skipping upgrade: pyparsing!=2.0.4,!=2.1.2,!=2.1.6,>=2.0.1 in /usr/local/lib/python3.6/dist-packages (from matplotlib->-r requirements.txt (line 6)) (2.4.7)\n",
            "Requirement already satisfied, skipping upgrade: google-auth<2,>=1.6.3 in /usr/local/lib/python3.6/dist-packages (from tensorboard->-r requirements.txt (line 8)) (1.17.2)\n",
            "Requirement already satisfied, skipping upgrade: absl-py>=0.4 in /usr/local/lib/python3.6/dist-packages (from tensorboard->-r requirements.txt (line 8)) (0.9.0)\n",
            "Requirement already satisfied, skipping upgrade: six>=1.10.0 in /usr/local/lib/python3.6/dist-packages (from tensorboard->-r requirements.txt (line 8)) (1.12.0)\n",
            "Requirement already satisfied, skipping upgrade: wheel>=0.26; python_version >= \"3\" in /usr/local/lib/python3.6/dist-packages (from tensorboard->-r requirements.txt (line 8)) (0.34.2)\n",
            "Requirement already satisfied, skipping upgrade: google-auth-oauthlib<0.5,>=0.4.1 in /usr/local/lib/python3.6/dist-packages (from tensorboard->-r requirements.txt (line 8)) (0.4.1)\n",
            "Requirement already satisfied, skipping upgrade: werkzeug>=0.11.15 in /usr/local/lib/python3.6/dist-packages (from tensorboard->-r requirements.txt (line 8)) (1.0.1)\n",
            "Requirement already satisfied, skipping upgrade: tensorboard-plugin-wit>=1.6.0 in /usr/local/lib/python3.6/dist-packages (from tensorboard->-r requirements.txt (line 8)) (1.6.0.post3)\n",
            "Requirement already satisfied, skipping upgrade: requests<3,>=2.21.0 in /usr/local/lib/python3.6/dist-packages (from tensorboard->-r requirements.txt (line 8)) (2.23.0)\n",
            "Requirement already satisfied, skipping upgrade: grpcio>=1.24.3 in /usr/local/lib/python3.6/dist-packages (from tensorboard->-r requirements.txt (line 8)) (1.30.0)\n",
            "Requirement already satisfied, skipping upgrade: protobuf>=3.6.0 in /usr/local/lib/python3.6/dist-packages (from tensorboard->-r requirements.txt (line 8)) (3.10.0)\n",
            "Requirement already satisfied, skipping upgrade: markdown>=2.6.8 in /usr/local/lib/python3.6/dist-packages (from tensorboard->-r requirements.txt (line 8)) (3.2.2)\n",
            "Requirement already satisfied, skipping upgrade: rsa<5,>=3.1.4; python_version >= \"3\" in /usr/local/lib/python3.6/dist-packages (from google-auth<2,>=1.6.3->tensorboard->-r requirements.txt (line 8)) (4.6)\n",
            "Requirement already satisfied, skipping upgrade: pyasn1-modules>=0.2.1 in /usr/local/lib/python3.6/dist-packages (from google-auth<2,>=1.6.3->tensorboard->-r requirements.txt (line 8)) (0.2.8)\n",
            "Requirement already satisfied, skipping upgrade: cachetools<5.0,>=2.0.0 in /usr/local/lib/python3.6/dist-packages (from google-auth<2,>=1.6.3->tensorboard->-r requirements.txt (line 8)) (4.1.0)\n",
            "Requirement already satisfied, skipping upgrade: requests-oauthlib>=0.7.0 in /usr/local/lib/python3.6/dist-packages (from google-auth-oauthlib<0.5,>=0.4.1->tensorboard->-r requirements.txt (line 8)) (1.3.0)\n",
            "Requirement already satisfied, skipping upgrade: certifi>=2017.4.17 in /usr/local/lib/python3.6/dist-packages (from requests<3,>=2.21.0->tensorboard->-r requirements.txt (line 8)) (2020.6.20)\n",
            "Requirement already satisfied, skipping upgrade: idna<3,>=2.5 in /usr/local/lib/python3.6/dist-packages (from requests<3,>=2.21.0->tensorboard->-r requirements.txt (line 8)) (2.9)\n",
            "Requirement already satisfied, skipping upgrade: chardet<4,>=3.0.2 in /usr/local/lib/python3.6/dist-packages (from requests<3,>=2.21.0->tensorboard->-r requirements.txt (line 8)) (3.0.4)\n",
            "Requirement already satisfied, skipping upgrade: urllib3!=1.25.0,!=1.25.1,<1.26,>=1.21.1 in /usr/local/lib/python3.6/dist-packages (from requests<3,>=2.21.0->tensorboard->-r requirements.txt (line 8)) (1.24.3)\n",
            "Requirement already satisfied, skipping upgrade: importlib-metadata; python_version < \"3.8\" in /usr/local/lib/python3.6/dist-packages (from markdown>=2.6.8->tensorboard->-r requirements.txt (line 8)) (1.6.1)\n",
            "Requirement already satisfied, skipping upgrade: pyasn1>=0.1.3 in /usr/local/lib/python3.6/dist-packages (from rsa<5,>=3.1.4; python_version >= \"3\"->google-auth<2,>=1.6.3->tensorboard->-r requirements.txt (line 8)) (0.4.8)\n",
            "Requirement already satisfied, skipping upgrade: oauthlib>=3.0.0 in /usr/local/lib/python3.6/dist-packages (from requests-oauthlib>=0.7.0->google-auth-oauthlib<0.5,>=0.4.1->tensorboard->-r requirements.txt (line 8)) (3.1.0)\n",
            "Requirement already satisfied, skipping upgrade: zipp>=0.5 in /usr/local/lib/python3.6/dist-packages (from importlib-metadata; python_version < \"3.8\"->markdown>=2.6.8->tensorboard->-r requirements.txt (line 8)) (3.1.0)\n",
            "Building wheels for collected packages: pycocotools\n",
            "  Building wheel for pycocotools (setup.py) ... \u001b[?25l\u001b[?25hdone\n",
            "  Created wheel for pycocotools: filename=pycocotools-2.0-cp36-cp36m-linux_x86_64.whl size=266988 sha256=76c0b7e898457aa524433ee60a7cf7149abf68ac11e7a28c6bc3f7919c8bb9f3\n",
            "  Stored in directory: /tmp/pip-ephem-wheel-cache-x8kvst8p/wheels/90/51/41/646daf401c3bc408ff10de34ec76587a9b3ebfac8d21ca5c3a\n",
            "Successfully built pycocotools\n",
            "Installing collected packages: pycocotools\n",
            "  Found existing installation: pycocotools 2.0\n",
            "    Uninstalling pycocotools-2.0:\n",
            "      Successfully uninstalled pycocotools-2.0\n",
            "Successfully installed pycocotools-2.0\n",
            "/content\n"
          ],
          "name": "stdout"
        }
      ]
    },
    {
      "cell_type": "code",
      "metadata": {
        "id": "78X6xYywtluM",
        "colab_type": "code",
        "colab": {
          "base_uri": "https://localhost:8080/",
          "height": 121
        },
        "outputId": "e8b9deb7-ba64-452e-9015-f845300c0185"
      },
      "source": [
        "%cd XmlToTxt\n",
        "!pip install -U -r requirements.txt\n",
        "%cd .."
      ],
      "execution_count": 2,
      "outputs": [
        {
          "output_type": "stream",
          "text": [
            "/content/XmlToTxt\n",
            "Collecting declxml==0.9.1\n",
            "  Downloading https://files.pythonhosted.org/packages/c9/e2/f399c6024bc1e87f767ff8e5b5715690b4c63a48b7a83bb4d75bd4170768/declxml-0.9.1-py3-none-any.whl\n",
            "Installing collected packages: declxml\n",
            "Successfully installed declxml-0.9.1\n",
            "/content\n"
          ],
          "name": "stdout"
        }
      ]
    },
    {
      "cell_type": "code",
      "metadata": {
        "id": "9n2RZ7xbXOUy",
        "colab_type": "code",
        "colab": {}
      },
      "source": [
        "!cp -rf XmlToTxt/* ./"
      ],
      "execution_count": 4,
      "outputs": []
    },
    {
      "cell_type": "code",
      "metadata": {
        "id": "3oNGFvYSYXTq",
        "colab_type": "code",
        "colab": {}
      },
      "source": [
        "!cp -rf YOLOv5/* ./"
      ],
      "execution_count": 5,
      "outputs": []
    },
    {
      "cell_type": "code",
      "metadata": {
        "id": "ld8j0mC3Zku1",
        "colab_type": "code",
        "colab": {}
      },
      "source": [
        "!python xmltotxt.py -xml labels/val -out labels/val1"
      ],
      "execution_count": 7,
      "outputs": []
    },
    {
      "cell_type": "code",
      "metadata": {
        "id": "d8GLHeW_aGjO",
        "colab_type": "code",
        "colab": {}
      },
      "source": [
        "!python xmltotxt.py -xml labels/train -out labels/train1"
      ],
      "execution_count": 8,
      "outputs": []
    },
    {
      "cell_type": "code",
      "metadata": {
        "id": "kVyi5MbTaQvw",
        "colab_type": "code",
        "colab": {}
      },
      "source": [
        "!rm -rf labels/train\n",
        "!rm -rf labels/val"
      ],
      "execution_count": 9,
      "outputs": []
    },
    {
      "cell_type": "code",
      "metadata": {
        "id": "YVcrQO4LdcXs",
        "colab_type": "code",
        "colab": {}
      },
      "source": [
        "!mv labels/val1 labels/val\n",
        "!mv labels/train labels/train"
      ],
      "execution_count": null,
      "outputs": []
    },
    {
      "cell_type": "code",
      "metadata": {
        "id": "zRpayN5CaiRQ",
        "colab_type": "code",
        "colab": {}
      },
      "source": [
        "!mkdir -p soccer"
      ],
      "execution_count": 17,
      "outputs": []
    },
    {
      "cell_type": "code",
      "metadata": {
        "id": "R8prPW6uay3g",
        "colab_type": "code",
        "colab": {}
      },
      "source": [
        "!cp -rf images ./soccer/images/"
      ],
      "execution_count": 18,
      "outputs": []
    },
    {
      "cell_type": "code",
      "metadata": {
        "id": "fkiaQdttbj_D",
        "colab_type": "code",
        "colab": {}
      },
      "source": [
        "!cp -rf labels ./soccer/labels/"
      ],
      "execution_count": 19,
      "outputs": []
    },
    {
      "cell_type": "code",
      "metadata": {
        "id": "PvyHxypjcFXT",
        "colab_type": "code",
        "colab": {
          "base_uri": "https://localhost:8080/",
          "height": 34
        },
        "outputId": "6d1ff8f3-06f7-4803-9e6a-ae00caba09f7"
      },
      "source": [
        "%cd yolov5/"
      ],
      "execution_count": 20,
      "outputs": [
        {
          "output_type": "stream",
          "text": [
            "/content/yolov5\n"
          ],
          "name": "stdout"
        }
      ]
    },
    {
      "cell_type": "code",
      "metadata": {
        "id": "5gb26EsSFvpW",
        "colab_type": "code",
        "colab": {
          "base_uri": "https://localhost:8080/",
          "height": 1000
        },
        "outputId": "97abe0c1-959b-4f33-9831-3f45371ba581"
      },
      "source": [
        "!python train.py --batch 16 --epochs 5 --data ./data/soccer.yaml --cfg ./models/yolov5s.yaml --weights ''"
      ],
      "execution_count": 21,
      "outputs": [
        {
          "output_type": "stream",
          "text": [
            "Apex recommended for faster mixed precision training: https://github.com/NVIDIA/apex\n",
            "{'lr0': 0.01, 'momentum': 0.937, 'weight_decay': 0.0005, 'giou': 0.05, 'cls': 0.58, 'cls_pw': 1.0, 'obj': 1.0, 'obj_pw': 1.0, 'iou_t': 0.2, 'anchor_t': 4.0, 'fl_gamma': 0.0, 'hsv_h': 0.014, 'hsv_s': 0.68, 'hsv_v': 0.36, 'degrees': 0.0, 'translate': 0.0, 'scale': 0.5, 'shear': 0.0}\n",
            "Namespace(adam=False, batch_size=16, bucket='', cache_images=False, cfg='./models/yolov5s.yaml', data='./data/soccer.yaml', device='', epochs=5, evolve=False, img_size=[640, 640], multi_scale=False, name='', noautoanchor=False, nosave=False, notest=False, rect=False, resume=False, single_cls=False, weights='')\n",
            "Using CPU\n",
            "\n",
            "2020-07-02 07:32:14.397765: I tensorflow/stream_executor/platform/default/dso_loader.cc:44] Successfully opened dynamic library libcudart.so.10.1\n",
            "Start Tensorboard with \"tensorboard --logdir=runs\", view at http://localhost:6006/\n",
            "\n",
            "              from  n    params  module                                  arguments                     \n",
            "  0             -1  1      3520  models.common.Focus                     [3, 32, 3]                    \n",
            "  1             -1  1     18560  models.common.Conv                      [32, 64, 3, 2]                \n",
            "  2             -1  1     19904  models.common.BottleneckCSP             [64, 64, 1]                   \n",
            "  3             -1  1     73984  models.common.Conv                      [64, 128, 3, 2]               \n",
            "  4             -1  1    161152  models.common.BottleneckCSP             [128, 128, 3]                 \n",
            "  5             -1  1    295424  models.common.Conv                      [128, 256, 3, 2]              \n",
            "  6             -1  1    641792  models.common.BottleneckCSP             [256, 256, 3]                 \n",
            "  7             -1  1   1180672  models.common.Conv                      [256, 512, 3, 2]              \n",
            "  8             -1  1    656896  models.common.SPP                       [512, 512, [5, 9, 13]]        \n",
            "  9             -1  1   1248768  models.common.BottleneckCSP             [512, 512, 1, False]          \n",
            " 10             -1  1    131584  models.common.Conv                      [512, 256, 1, 1]              \n",
            " 11             -1  1         0  torch.nn.modules.upsampling.Upsample    [None, 2, 'nearest']          \n",
            " 12        [-1, 6]  1         0  models.common.Concat                    [1]                           \n",
            " 13             -1  1    378624  models.common.BottleneckCSP             [512, 256, 1, False]          \n",
            " 14             -1  1     33024  models.common.Conv                      [256, 128, 1, 1]              \n",
            " 15             -1  1         0  torch.nn.modules.upsampling.Upsample    [None, 2, 'nearest']          \n",
            " 16        [-1, 4]  1         0  models.common.Concat                    [1]                           \n",
            " 17             -1  1     95104  models.common.BottleneckCSP             [256, 128, 1, False]          \n",
            " 18             -1  1      2709  torch.nn.modules.conv.Conv2d            [128, 21, 1, 1]               \n",
            " 19             -2  1    147712  models.common.Conv                      [128, 128, 3, 2]              \n",
            " 20       [-1, 14]  1         0  models.common.Concat                    [1]                           \n",
            " 21             -1  1    313088  models.common.BottleneckCSP             [256, 256, 1, False]          \n",
            " 22             -1  1      5397  torch.nn.modules.conv.Conv2d            [256, 21, 1, 1]               \n",
            " 23             -2  1    590336  models.common.Conv                      [256, 256, 3, 2]              \n",
            " 24       [-1, 10]  1         0  models.common.Concat                    [1]                           \n",
            " 25             -1  1   1248768  models.common.BottleneckCSP             [512, 512, 1, False]          \n",
            " 26             -1  1     10773  torch.nn.modules.conv.Conv2d            [512, 21, 1, 1]               \n",
            " 27   [-1, 22, 18]  1         0  models.yolo.Detect                      [2, [[116, 90, 156, 198, 373, 326], [30, 61, 62, 45, 59, 119], [10, 13, 16, 30, 33, 23]]]\n",
            "Model Summary: 191 layers, 7.25779e+06 parameters, 7.25779e+06 gradients\n",
            "\n",
            "Optimizer groups: 62 .bias, 70 conv.weight, 59 other\n",
            "Reading image shapes: 100% 151/151 [00:13<00:00, 11.11it/s]\n",
            "Caching labels /content/soccer/labels/train (151 found, 0 missing, 0 empty, 0 duplicate, for 151 images): 100% 151/151 [00:00<00:00, 9824.71it/s]\n",
            "Reading image shapes: 100% 40/40 [00:03<00:00, 10.91it/s]\n",
            "Caching labels /content/soccer/labels/val (40 found, 0 missing, 0 empty, 0 duplicate, for 40 images): 100% 40/40 [00:00<00:00, 9561.85it/s]\n",
            "\n",
            "Analyzing anchors... Best Possible Recall (BPR) = 1.0000\n",
            "Image sizes 640 train, 640 test\n",
            "Using 2 dataloader workers\n",
            "Starting training for 5 epochs...\n",
            "\n",
            "     Epoch   gpu_mem      GIoU       obj       cls     total   targets  img_size\n",
            "       0/4        0G    0.1193     0.034   0.03324    0.1866        15       640: 100% 10/10 [04:26<00:00, 26.63s/it]\n",
            "               Class      Images     Targets           P           R      mAP@.5  mAP@.5:.95: 100% 3/3 [00:18<00:00,  6.12s/it]\n",
            "                 all          40          40           0           0           0           0\n",
            "\n",
            "     Epoch   gpu_mem      GIoU       obj       cls     total   targets  img_size\n",
            "       1/4        0G    0.1122   0.02804   0.03133    0.1715        16       640: 100% 10/10 [04:26<00:00, 26.69s/it]\n",
            "               Class      Images     Targets           P           R      mAP@.5  mAP@.5:.95: 100% 3/3 [00:17<00:00,  5.77s/it]\n",
            "                 all          40          40           0           0           0           0\n",
            "\n",
            "     Epoch   gpu_mem      GIoU       obj       cls     total   targets  img_size\n",
            "       2/4        0G    0.1103   0.02483   0.02881     0.164        13       640: 100% 10/10 [04:26<00:00, 26.65s/it]\n",
            "               Class      Images     Targets           P           R      mAP@.5  mAP@.5:.95: 100% 3/3 [00:18<00:00,  6.01s/it]\n",
            "                 all          40          40           0           0           0           0\n",
            "\n",
            "     Epoch   gpu_mem      GIoU       obj       cls     total   targets  img_size\n",
            "       3/4        0G    0.1079   0.02474   0.02681    0.1594        21       640: 100% 10/10 [04:27<00:00, 26.70s/it]\n",
            "               Class      Images     Targets           P           R      mAP@.5  mAP@.5:.95: 100% 3/3 [00:16<00:00,  5.34s/it]\n",
            "                 all          40          40           0           0           0           0\n",
            "\n",
            "     Epoch   gpu_mem      GIoU       obj       cls     total   targets  img_size\n",
            "       4/4        0G    0.1093    0.0221   0.02529    0.1567        23       640: 100% 10/10 [04:26<00:00, 26.62s/it]\n",
            "               Class      Images     Targets           P           R      mAP@.5  mAP@.5:.95: 100% 3/3 [00:15<00:00,  5.26s/it]\n",
            "                 all          40          40           0           0    0.000206    3.59e-05\n",
            "5 epochs completed in 0.395 hours.\n",
            "\n"
          ],
          "name": "stdout"
        }
      ]
    },
    {
      "cell_type": "code",
      "metadata": {
        "id": "6BJrM-KOjzVT",
        "colab_type": "code",
        "colab": {
          "base_uri": "https://localhost:8080/",
          "height": 439
        },
        "outputId": "6702b30d-8e19-465a-bf4c-1fa51b5c8589"
      },
      "source": [
        "from utils.utils import plot_results\n",
        "plot_results()"
      ],
      "execution_count": 22,
      "outputs": [
        {
          "output_type": "display_data",
          "data": {
            "image/png": "[encoded data removed]",
            "text/plain": [
              "<Figure size 864x432 with 10 Axes>"
            ]
          },
          "metadata": {
            "tags": [],
            "needs_background": "light"
          }
        }
      ]
    }
  ]
}